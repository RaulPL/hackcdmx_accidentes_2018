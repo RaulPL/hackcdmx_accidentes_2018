{
 "cells": [
  {
   "cell_type": "code",
   "execution_count": null,
   "metadata": {},
   "outputs": [],
   "source": [
    "import cartopy\n",
    "import numpy as np\n",
    "import pandas as pd\n",
    "from pathlib import Path\n",
    "import geoviews as gv\n",
    "import holoviews as hv\n",
    "pd.set_option('display.max_rows', 100)\n",
    "pd.set_option('display.max_columns', 100)\n",
    "\n",
    "from data_utils import wgs84_to_mercator\n",
    "\n",
    "%matplotlib inline\n",
    "hv.extension('bokeh')"
   ]
  },
  {
   "cell_type": "code",
   "execution_count": null,
   "metadata": {},
   "outputs": [],
   "source": [
    "df_points_in_clusters = pd.read_csv('../data/processed/points_in_clusters.csv', parse_dates=['fecha'], dtype={'hora': str})\n",
    "coords = [wgs84_to_mercator(lat, lon) for lat, lon in zip(df_points_in_clusters.latitud, df_points_in_clusters.longitud)]\n",
    "df_points_in_clusters = df_points_in_clusters.assign(y=[y for y, _ in coords], x=[x for _, x in coords])\n",
    "print(df_points_in_clusters.shape)\n",
    "df_points_in_clusters.head(2)"
   ]
  },
  {
   "cell_type": "code",
   "execution_count": null,
   "metadata": {},
   "outputs": [],
   "source": [
    "df_centros = pd.read_csv('../data/processed/clusters.csv')\n",
    "print(df_centros.shape)\n",
    "df_centros.head(3)"
   ]
  },
  {
   "cell_type": "code",
   "execution_count": null,
   "metadata": {},
   "outputs": [],
   "source": [
    "df_empty = pd.DataFrame(index=('LUNES', 'MARTES', 'MIERCOLES', 'JUEVES', 'VIERNES', 'SABADO', 'DOMINGO'),\n",
    "                        columns=sorted(df_points_in_clusters.hora.unique()))# .fillna(0)\n",
    "df_empty = df_empty.reset_index()\n",
    "df_empty = pd.melt(df_empty, id_vars='index').rename(columns={'index': 'dia_semana', 'variable': 'hora'})\n",
    "print(df_empty.shape)\n",
    "df_empty.head(2)"
   ]
  },
  {
   "cell_type": "markdown",
   "metadata": {},
   "source": [
    "# Dashboard"
   ]
  },
  {
   "cell_type": "code",
   "execution_count": null,
   "metadata": {},
   "outputs": [],
   "source": [
    "index_to_cluster = {i: row.cluster for i, row in enumerate(df_centros.itertuples())}\n",
    "\n",
    "\n",
    "def empty_heatmap():\n",
    "    heatmap_opts = dict(width=600, height=300, cmap='viridis',\n",
    "                        colorbar=True, show_title=False, tools=['hover'])\n",
    "    heatmap = hv.HeatMap(\n",
    "        df_empty, kdims=['hora', 'dia_semana'], vdims=['value']\n",
    "    ).options(**heatmap_opts)\n",
    "    return heatmap\n",
    "\n",
    "\n",
    "def generar_heatmap(cluster, indice):\n",
    "    df_heat = df_points_in_clusters.loc[df_points_in_clusters.cluster == cluster].groupby(['dia_semana', 'hora'], as_index=False).cluster.count()\n",
    "    df_heat = df_heat.pivot(index='dia_semana', columns='hora', values='cluster').fillna(0)\n",
    "    df_heat = df_heat.reindex(('LUNES', 'MARTES', 'MIERCOLES', 'JUEVES', 'VIERNES', 'SABADO', 'DOMINGO')).reset_index()\n",
    "    df_heat = pd.melt(df_heat, id_vars='dia_semana')\n",
    "    df_heat = df_heat.assign(value=df_heat['value'].astype(int))\n",
    "    heatmap_opts = dict(width=600, height=300,\n",
    "                        cmap='viridis', \n",
    "                        colorbar=True, \n",
    "                        # toolbar='above'\n",
    "                        show_title=True, tools=['hover'])\n",
    "    heatmap = hv.HeatMap(\n",
    "        df_heat, kdims=['hora', 'dia_semana'], vdims=['value'], \n",
    "        label=f'Incidentes por día y hora en el cluster: {indice}').options(**heatmap_opts)\n",
    "    return heatmap\n",
    "\n",
    "\n",
    "# el index es una lista, se tiene que agarrar sólo uno\n",
    "def tapt_to_heatmap(index):\n",
    "    if index:\n",
    "        cluster = index_to_cluster[index[0]]\n",
    "        return generar_heatmap(cluster, index[0])\n",
    "    else:\n",
    "        return empty_heatmap()\n",
    "\n",
    "\n",
    "width = 1000\n",
    "height = 700\n",
    "\n",
    "points_opts = dict(alpha=0.35, color='firebrick')\n",
    "points = gv.Points(df_points_in_clusters, kdims=['longitud', 'latitud'], vdims=['cluster']).options(**points_opts)\n",
    "\n",
    "centros_opts = dict(\n",
    "    cmap='viridis',\n",
    "    size_index=2,\n",
    "    color_index=2, \n",
    "    alpha=0.65,\n",
    "    logz=True,\n",
    "    colorbar=True,\n",
    "    tools=['hover', 'tap'],\n",
    "    scaling_factor=1.5\n",
    ")\n",
    "\n",
    "centros_elemets = {\n",
    "    i: hv.Points({'x': row.x, 'y': row.y, 'cluster_size': row.cluster_size}, \n",
    "                  kdims=['x', 'y'], \n",
    "                  vdims=['cluster_size']).options(**centros_opts)\n",
    "    for i, row in enumerate(df_centros.itertuples())\n",
    "}\n",
    "nd_centros = hv.NdOverlay(centros_elemets)\n",
    "selection_centros = hv.streams.Selection1D(source=nd_centros)\n",
    "dmap = hv.DynamicMap(tapt_to_heatmap, streams=[selection_centros])\n",
    "\n",
    "tiles_opts = dict(width=width, height=height, bgcolor='black',\n",
    "                  xaxis=None, yaxis=None, \n",
    "                  show_grid=False, toolbar='above')\n",
    "tiles = gv.tile_sources.Wikipedia.clone().options(**tiles_opts)\n",
    "\n",
    "mapa = tiles * nd_centros * points\n",
    "dmap + mapa \n"
   ]
  },
  {
   "cell_type": "code",
   "execution_count": null,
   "metadata": {},
   "outputs": [],
   "source": []
  }
 ],
 "metadata": {
  "kernelspec": {
   "display_name": "Python 3",
   "language": "python",
   "name": "python3"
  },
  "language_info": {
   "codemirror_mode": {
    "name": "ipython",
    "version": 3
   },
   "file_extension": ".py",
   "mimetype": "text/x-python",
   "name": "python",
   "nbconvert_exporter": "python",
   "pygments_lexer": "ipython3",
   "version": "3.6.6"
  }
 },
 "nbformat": 4,
 "nbformat_minor": 2
}
