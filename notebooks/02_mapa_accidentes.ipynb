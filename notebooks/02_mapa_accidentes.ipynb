{
 "cells": [
  {
   "cell_type": "code",
   "execution_count": null,
   "metadata": {},
   "outputs": [],
   "source": [
    "import joblib\n",
    "import cartopy\n",
    "import numpy as np\n",
    "import pandas as pd\n",
    "import matplotlib.pyplot as plt\n",
    "import seaborn as sns\n",
    "import altair as alt\n",
    "from pathlib import Path\n",
    "from collections import Counter\n",
    "import geoviews as gv\n",
    "import holoviews as hv\n",
    "# Mis funciones\n",
    "from data_utils import load_axa_data\n",
    "from data_utils import wgs84_to_mercator\n",
    "\n",
    "pd.set_option('display.max_rows', 100)\n",
    "pd.set_option('display.max_columns', 100)\n",
    "\n",
    "%matplotlib inline\n",
    "hv.extension('bokeh')"
   ]
  },
  {
   "cell_type": "code",
   "execution_count": null,
   "metadata": {},
   "outputs": [],
   "source": [
    "df_axa = pd.read_parquet('../data/processed/accidentes_axa.parquet', engine='pyarrow')\n",
    "print(df_axa.shape)\n",
    "df_axa.head()"
   ]
  },
  {
   "cell_type": "code",
   "execution_count": null,
   "metadata": {},
   "outputs": [],
   "source": [
    "coords_hora = [(wgs84_to_mercator(lat, lon), hora) for lat, lon, hora in zip(df_axa.latitud, df_axa.longitud, df_axa.hora)]\n",
    "\n",
    "coords_hora = [{'y': y, 'x': x, 'hora': hora} for (y, x), hora in coords_hora]\n",
    "df_coords = pd.DataFrame(coords_hora)\n",
    "df_coords.head(3)"
   ]
  },
  {
   "cell_type": "code",
   "execution_count": null,
   "metadata": {},
   "outputs": [],
   "source": [
    "# Holoviews dataset\n",
    "coords_ds = hv.Dataset(df_coords, kdims=['x', 'y'], vdims=['hora'])\n",
    "coords_ds.data.head()"
   ]
  },
  {
   "cell_type": "code",
   "execution_count": null,
   "metadata": {},
   "outputs": [],
   "source": [
    "# Mapa\n",
    "width = 1200\n",
    "height = 700\n",
    "\n",
    "tiles_opts = dict(width=width, height=height, bgcolor='black', xaxis=None, yaxis=None, show_grid=False)\n",
    "tiles = gv.tile_sources.Wikipedia.clone(crs=cartopy.crs.GOOGLE_MERCATOR).options(**tiles_opts) \n",
    "tiles"
   ]
  },
  {
   "cell_type": "code",
   "execution_count": null,
   "metadata": {},
   "outputs": [],
   "source": [
    "hex_two_distributions = hv.HexTiles(coords_ds)\n",
    "\n",
    "hex_two_distributions = hex_two_distributions.options(\n",
    "    width=width, height=height,\n",
    "    alpha=0.5, cmap='viridis', logz=False,\n",
    "    tools=['hover'], colorbar=True, min_count=1,\n",
    ")\n",
    "hex_two_distributions"
   ]
  },
  {
   "cell_type": "code",
   "execution_count": null,
   "metadata": {},
   "outputs": [],
   "source": [
    "mapa = tiles * hex_two_distributions\n",
    "mapa"
   ]
  },
  {
   "cell_type": "code",
   "execution_count": null,
   "metadata": {},
   "outputs": [],
   "source": [
    "# save html\n",
    "renderer = hv.renderer('bokeh')\n",
    "renderer.save(mapa, '../figures/mapa_accidentes')"
   ]
  },
  {
   "cell_type": "code",
   "execution_count": null,
   "metadata": {},
   "outputs": [],
   "source": [
    "# Por hora \n",
    "\n",
    "width = 900\n",
    "height = 700\n",
    "\n",
    "def generate_maps(hora):\n",
    "    # hextiles, se filtran por hora\n",
    "    coords_ds_por_hora = coords_ds.select(hora=hora)\n",
    "    # print(coords_ds_por_hora.data.shape)\n",
    "    hextiles = hv.HexTiles(coords_ds_por_hora)\n",
    "    hextiles = hextiles.options(\n",
    "        width=width, height=height,\n",
    "        alpha=0.5, cmap='viridis', logz=False,\n",
    "        tools=['hover'], colorbar=True, min_count=1,\n",
    "    )\n",
    "    # Map tiles\n",
    "    tiles_opts = dict(width=width, height=height, bgcolor='black', \n",
    "                      xaxis=None, yaxis=None, show_grid=False)\n",
    "    tiles_hora = gv.tile_sources.Wikipedia.clone(\n",
    "        crs=cartopy.crs.GOOGLE_MERCATOR).options(**tiles_opts) \n",
    "    mapa_hora = tiles_hora * hextiles\n",
    "    return mapa_hora\n",
    "\n",
    "\n",
    "horas = [str(i).zfill(2) for i in range(0, 24)]\n",
    "dmap = hv.DynamicMap(generate_maps, kdims='hora')\n",
    "dmap.redim.values(hora=horas)\n"
   ]
  },
  {
   "cell_type": "code",
   "execution_count": null,
   "metadata": {},
   "outputs": [],
   "source": []
  },
  {
   "cell_type": "code",
   "execution_count": null,
   "metadata": {},
   "outputs": [],
   "source": [
    "# Load all axa\n",
    "# path_axa = Path('../data/raw/')\n",
    "\n",
    "# dfs_axa = joblib.Parallel(n_jobs=-1, verbose=0)(\n",
    "#     joblib.delayed(load_axa_data)(path.as_posix())\n",
    "#     for path in path_axa.iterdir() \n",
    "#     if path.as_posix().endswith('.geojson')\n",
    "# )\n",
    "\n",
    "# df_axa = pd.concat(dfs_axa, axis=0, ignore_index=True, sort=True)\n",
    "# print(df_axa.shape)\n",
    "# df_axa.drop('codigo_pos_c_254', axis=1).to_parquet('../data/processed/accidentes_axa.parquet', engine='pyarrow')\n",
    "# df_axa.head()"
   ]
  }
 ],
 "metadata": {
  "kernelspec": {
   "display_name": "Python 3",
   "language": "python",
   "name": "python3"
  },
  "language_info": {
   "codemirror_mode": {
    "name": "ipython",
    "version": 3
   },
   "file_extension": ".py",
   "mimetype": "text/x-python",
   "name": "python",
   "nbconvert_exporter": "python",
   "pygments_lexer": "ipython3",
   "version": "3.6.6"
  }
 },
 "nbformat": 4,
 "nbformat_minor": 2
}
